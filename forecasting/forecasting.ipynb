{
 "cells": [
  {
   "cell_type": "code",
   "execution_count": 71,
   "id": "e30a7c1d-9f3c-4ec4-99b4-1b2614aaf314",
   "metadata": {
    "pycharm": {
     "name": "#%%\n"
    }
   },
   "outputs": [],
   "source": [
    "from pyspark.sql import SparkSession\n",
    "from pyspark.sql.functions import col\n",
    "import pandas as pd\n",
    "import matplotlib as mpl\n",
    "import matplotlib.pyplot as plt\n",
    "from fbprophet import Prophet\n",
    "\n",
    "mpl.rcParams['figure.figsize'] = (10, 8)\n",
    "mpl.rcParams['axes.grid'] = False"
   ]
  },
  {
   "cell_type": "code",
   "execution_count": 2,
   "id": "e32328ea-7bcb-4fa6-81db-75f357b82fa3",
   "metadata": {
    "pycharm": {
     "name": "#%%\n"
    }
   },
   "outputs": [],
   "source": [
    "spark = SparkSession.builder \\\n",
    "    .master(\"local[*]\") \\\n",
    "    .appName(\"BDM - ML\") \\\n",
    "    .getOrCreate()"
   ]
  },
  {
   "cell_type": "code",
   "execution_count": 11,
   "id": "10ab26b1-a8b1-44e1-9f10-1308b3704f43",
   "metadata": {
    "pycharm": {
     "name": "#%%\n"
    }
   },
   "outputs": [],
   "source": [
    "df = spark.read.format(\"jdbc\").option(\"url\", \"jdbc:postgresql://clefable.fib.upc.edu:9700/bdm\") \\\n",
    "    .option(\"driver\", \"org.postgresql.Driver\").option(\"dbtable\", \"agricultural_exports_agg_full\") \\\n",
    "    .option(\"user\", \"postgres\").option(\"password\", \"postgres\").load()"
   ]
  },
  {
   "cell_type": "code",
   "execution_count": 442,
   "id": "aac48c79-c912-472c-b179-c7c1d030f783",
   "metadata": {
    "pycharm": {
     "name": "#%%\n"
    }
   },
   "outputs": [],
   "source": [
    "# A CSV with the same data of the database is provided in case the code has to be run and the database is not available\n",
    "# This CSV is an exact copy of the Materialized View mentioned in the report, but only with data from Brazil\n",
    "df = spark.read.option(\"header\", \"true\").csv(\"./bdm_public_agricultural_exports_agg_full.csv\")"
   ]
  },
  {
   "cell_type": "code",
   "execution_count": 501,
   "id": "aa97bbef-7473-49a4-960e-9a3fea8e458c",
   "metadata": {
    "pycharm": {
     "name": "#%%\n"
    }
   },
   "outputs": [
    {
     "name": "stdout",
     "output_type": "stream",
     "text": [
      "+-------+--------+------------------+------+\n",
      "|  month|category|       total_price|origin|\n",
      "+-------+--------+------------------+------+\n",
      "|2022-05|    0600|  39048.9429833889|   BRA|\n",
      "|2022-04|    0600|311423.95265356824|   BRA|\n",
      "|2022-03|    0600| 87.54999852180481|   BRA|\n",
      "|2022-02|    0600|                 0|   BRA|\n",
      "+-------+--------+------------------+------+\n",
      "only showing top 4 rows\n",
      "\n"
     ]
    }
   ],
   "source": [
    "df.orderBy([\"category\", col(\"month\").desc()]).show(4)"
   ]
  },
  {
   "cell_type": "code",
   "execution_count": 444,
   "id": "927a739d-f106-4aaa-b133-94465a3e0d1c",
   "metadata": {
    "pycharm": {
     "name": "#%%\n"
    }
   },
   "outputs": [],
   "source": [
    "df.createOrReplaceTempView(\"exports\")"
   ]
  },
  {
   "cell_type": "code",
   "execution_count": 502,
   "id": "6ad57086-5764-4548-9536-b0f03600d5e8",
   "metadata": {
    "pycharm": {
     "name": "#%%\n"
    }
   },
   "outputs": [],
   "source": [
    "cat_df = spark.sql(\"SELECT category as cat, month as ds, total_price as y FROM exports WHERE month > '2018' AND origin = 'BRA' ORDER BY cat, month\")"
   ]
  },
  {
   "cell_type": "code",
   "execution_count": 446,
   "id": "56b17666-3c55-4024-8233-7dc2c1698798",
   "metadata": {
    "pycharm": {
     "name": "#%%\n"
    }
   },
   "outputs": [
    {
     "data": {
      "text/html": [
       "<div>\n",
       "<style scoped>\n",
       "    .dataframe tbody tr th:only-of-type {\n",
       "        vertical-align: middle;\n",
       "    }\n",
       "\n",
       "    .dataframe tbody tr th {\n",
       "        vertical-align: top;\n",
       "    }\n",
       "\n",
       "    .dataframe thead th {\n",
       "        text-align: right;\n",
       "    }\n",
       "</style>\n",
       "<table border=\"1\" class=\"dataframe\">\n",
       "  <thead>\n",
       "    <tr style=\"text-align: right;\">\n",
       "      <th></th>\n",
       "      <th>cat</th>\n",
       "      <th>ds</th>\n",
       "      <th>y</th>\n",
       "    </tr>\n",
       "  </thead>\n",
       "  <tbody>\n",
       "    <tr>\n",
       "      <th>0</th>\n",
       "      <td>0600</td>\n",
       "      <td>2018-01</td>\n",
       "      <td>0</td>\n",
       "    </tr>\n",
       "    <tr>\n",
       "      <th>1</th>\n",
       "      <td>0600</td>\n",
       "      <td>2018-02</td>\n",
       "      <td>0</td>\n",
       "    </tr>\n",
       "    <tr>\n",
       "      <th>2</th>\n",
       "      <td>0600</td>\n",
       "      <td>2018-03</td>\n",
       "      <td>0</td>\n",
       "    </tr>\n",
       "    <tr>\n",
       "      <th>3</th>\n",
       "      <td>0600</td>\n",
       "      <td>2018-04</td>\n",
       "      <td>0</td>\n",
       "    </tr>\n",
       "    <tr>\n",
       "      <th>4</th>\n",
       "      <td>0600</td>\n",
       "      <td>2018-05</td>\n",
       "      <td>0</td>\n",
       "    </tr>\n",
       "  </tbody>\n",
       "</table>\n",
       "</div>"
      ],
      "text/plain": [
       "    cat       ds  y\n",
       "0  0600  2018-01  0\n",
       "1  0600  2018-02  0\n",
       "2  0600  2018-03  0\n",
       "3  0600  2018-04  0\n",
       "4  0600  2018-05  0"
      ]
     },
     "execution_count": 446,
     "metadata": {},
     "output_type": "execute_result"
    }
   ],
   "source": [
    "pdf = cat_df.toPandas()\n",
    "pdf.head()"
   ]
  },
  {
   "cell_type": "code",
   "execution_count": 447,
   "id": "84b05c95-072b-481e-bed9-bdcfb658ef9a",
   "metadata": {
    "pycharm": {
     "name": "#%%\n"
    }
   },
   "outputs": [
    {
     "data": {
      "text/html": [
       "<div>\n",
       "<style scoped>\n",
       "    .dataframe tbody tr th:only-of-type {\n",
       "        vertical-align: middle;\n",
       "    }\n",
       "\n",
       "    .dataframe tbody tr th {\n",
       "        vertical-align: top;\n",
       "    }\n",
       "\n",
       "    .dataframe thead th {\n",
       "        text-align: right;\n",
       "    }\n",
       "</style>\n",
       "<table border=\"1\" class=\"dataframe\">\n",
       "  <thead>\n",
       "    <tr style=\"text-align: right;\">\n",
       "      <th></th>\n",
       "      <th>cat</th>\n",
       "      <th>ds</th>\n",
       "      <th>y</th>\n",
       "    </tr>\n",
       "  </thead>\n",
       "  <tbody>\n",
       "    <tr>\n",
       "      <th>742</th>\n",
       "      <td>0709</td>\n",
       "      <td>2018-01</td>\n",
       "      <td>0</td>\n",
       "    </tr>\n",
       "    <tr>\n",
       "      <th>743</th>\n",
       "      <td>0709</td>\n",
       "      <td>2018-02</td>\n",
       "      <td>8986</td>\n",
       "    </tr>\n",
       "    <tr>\n",
       "      <th>744</th>\n",
       "      <td>0709</td>\n",
       "      <td>2018-03</td>\n",
       "      <td>0</td>\n",
       "    </tr>\n",
       "    <tr>\n",
       "      <th>745</th>\n",
       "      <td>0709</td>\n",
       "      <td>2018-04</td>\n",
       "      <td>0</td>\n",
       "    </tr>\n",
       "    <tr>\n",
       "      <th>746</th>\n",
       "      <td>0709</td>\n",
       "      <td>2018-05</td>\n",
       "      <td>10812</td>\n",
       "    </tr>\n",
       "    <tr>\n",
       "      <th>747</th>\n",
       "      <td>0709</td>\n",
       "      <td>2018-06</td>\n",
       "      <td>26510</td>\n",
       "    </tr>\n",
       "    <tr>\n",
       "      <th>748</th>\n",
       "      <td>0709</td>\n",
       "      <td>2018-07</td>\n",
       "      <td>0</td>\n",
       "    </tr>\n",
       "    <tr>\n",
       "      <th>749</th>\n",
       "      <td>0709</td>\n",
       "      <td>2018-08</td>\n",
       "      <td>8</td>\n",
       "    </tr>\n",
       "    <tr>\n",
       "      <th>750</th>\n",
       "      <td>0709</td>\n",
       "      <td>2018-09</td>\n",
       "      <td>16483</td>\n",
       "    </tr>\n",
       "    <tr>\n",
       "      <th>751</th>\n",
       "      <td>0709</td>\n",
       "      <td>2018-10</td>\n",
       "      <td>0</td>\n",
       "    </tr>\n",
       "    <tr>\n",
       "      <th>752</th>\n",
       "      <td>0709</td>\n",
       "      <td>2018-11</td>\n",
       "      <td>4952</td>\n",
       "    </tr>\n",
       "    <tr>\n",
       "      <th>753</th>\n",
       "      <td>0709</td>\n",
       "      <td>2018-12</td>\n",
       "      <td>0</td>\n",
       "    </tr>\n",
       "    <tr>\n",
       "      <th>754</th>\n",
       "      <td>0709</td>\n",
       "      <td>2019-01</td>\n",
       "      <td>8990</td>\n",
       "    </tr>\n",
       "    <tr>\n",
       "      <th>755</th>\n",
       "      <td>0709</td>\n",
       "      <td>2019-02</td>\n",
       "      <td>0</td>\n",
       "    </tr>\n",
       "    <tr>\n",
       "      <th>756</th>\n",
       "      <td>0709</td>\n",
       "      <td>2019-03</td>\n",
       "      <td>10511</td>\n",
       "    </tr>\n",
       "    <tr>\n",
       "      <th>757</th>\n",
       "      <td>0709</td>\n",
       "      <td>2019-04</td>\n",
       "      <td>0</td>\n",
       "    </tr>\n",
       "    <tr>\n",
       "      <th>758</th>\n",
       "      <td>0709</td>\n",
       "      <td>2019-05</td>\n",
       "      <td>9910</td>\n",
       "    </tr>\n",
       "    <tr>\n",
       "      <th>759</th>\n",
       "      <td>0709</td>\n",
       "      <td>2019-06</td>\n",
       "      <td>3148</td>\n",
       "    </tr>\n",
       "    <tr>\n",
       "      <th>760</th>\n",
       "      <td>0709</td>\n",
       "      <td>2019-07</td>\n",
       "      <td>4854</td>\n",
       "    </tr>\n",
       "    <tr>\n",
       "      <th>761</th>\n",
       "      <td>0709</td>\n",
       "      <td>2019-08</td>\n",
       "      <td>21874</td>\n",
       "    </tr>\n",
       "    <tr>\n",
       "      <th>762</th>\n",
       "      <td>0709</td>\n",
       "      <td>2019-09</td>\n",
       "      <td>7049</td>\n",
       "    </tr>\n",
       "    <tr>\n",
       "      <th>763</th>\n",
       "      <td>0709</td>\n",
       "      <td>2019-10</td>\n",
       "      <td>0</td>\n",
       "    </tr>\n",
       "    <tr>\n",
       "      <th>764</th>\n",
       "      <td>0709</td>\n",
       "      <td>2019-11</td>\n",
       "      <td>3852</td>\n",
       "    </tr>\n",
       "    <tr>\n",
       "      <th>765</th>\n",
       "      <td>0709</td>\n",
       "      <td>2019-12</td>\n",
       "      <td>23178</td>\n",
       "    </tr>\n",
       "    <tr>\n",
       "      <th>766</th>\n",
       "      <td>0709</td>\n",
       "      <td>2020-01</td>\n",
       "      <td>2642</td>\n",
       "    </tr>\n",
       "    <tr>\n",
       "      <th>767</th>\n",
       "      <td>0709</td>\n",
       "      <td>2020-02</td>\n",
       "      <td>19354</td>\n",
       "    </tr>\n",
       "    <tr>\n",
       "      <th>768</th>\n",
       "      <td>0709</td>\n",
       "      <td>2020-03</td>\n",
       "      <td>46491</td>\n",
       "    </tr>\n",
       "    <tr>\n",
       "      <th>769</th>\n",
       "      <td>0709</td>\n",
       "      <td>2020-04</td>\n",
       "      <td>12566</td>\n",
       "    </tr>\n",
       "    <tr>\n",
       "      <th>770</th>\n",
       "      <td>0709</td>\n",
       "      <td>2020-05</td>\n",
       "      <td>38078</td>\n",
       "    </tr>\n",
       "    <tr>\n",
       "      <th>771</th>\n",
       "      <td>0709</td>\n",
       "      <td>2020-06</td>\n",
       "      <td>4017</td>\n",
       "    </tr>\n",
       "    <tr>\n",
       "      <th>772</th>\n",
       "      <td>0709</td>\n",
       "      <td>2020-07</td>\n",
       "      <td>3096</td>\n",
       "    </tr>\n",
       "    <tr>\n",
       "      <th>773</th>\n",
       "      <td>0709</td>\n",
       "      <td>2020-08</td>\n",
       "      <td>7967</td>\n",
       "    </tr>\n",
       "    <tr>\n",
       "      <th>774</th>\n",
       "      <td>0709</td>\n",
       "      <td>2020-09</td>\n",
       "      <td>28178</td>\n",
       "    </tr>\n",
       "    <tr>\n",
       "      <th>775</th>\n",
       "      <td>0709</td>\n",
       "      <td>2020-10</td>\n",
       "      <td>8470</td>\n",
       "    </tr>\n",
       "    <tr>\n",
       "      <th>776</th>\n",
       "      <td>0709</td>\n",
       "      <td>2020-11</td>\n",
       "      <td>840</td>\n",
       "    </tr>\n",
       "    <tr>\n",
       "      <th>777</th>\n",
       "      <td>0709</td>\n",
       "      <td>2020-12</td>\n",
       "      <td>5476</td>\n",
       "    </tr>\n",
       "    <tr>\n",
       "      <th>778</th>\n",
       "      <td>0709</td>\n",
       "      <td>2021-01</td>\n",
       "      <td>45888</td>\n",
       "    </tr>\n",
       "    <tr>\n",
       "      <th>779</th>\n",
       "      <td>0709</td>\n",
       "      <td>2021-02</td>\n",
       "      <td>11428</td>\n",
       "    </tr>\n",
       "    <tr>\n",
       "      <th>780</th>\n",
       "      <td>0709</td>\n",
       "      <td>2021-03</td>\n",
       "      <td>58822</td>\n",
       "    </tr>\n",
       "    <tr>\n",
       "      <th>781</th>\n",
       "      <td>0709</td>\n",
       "      <td>2021-04</td>\n",
       "      <td>15736</td>\n",
       "    </tr>\n",
       "    <tr>\n",
       "      <th>782</th>\n",
       "      <td>0709</td>\n",
       "      <td>2021-05</td>\n",
       "      <td>3075</td>\n",
       "    </tr>\n",
       "    <tr>\n",
       "      <th>783</th>\n",
       "      <td>0709</td>\n",
       "      <td>2021-06</td>\n",
       "      <td>15991</td>\n",
       "    </tr>\n",
       "    <tr>\n",
       "      <th>784</th>\n",
       "      <td>0709</td>\n",
       "      <td>2021-07</td>\n",
       "      <td>3398</td>\n",
       "    </tr>\n",
       "    <tr>\n",
       "      <th>785</th>\n",
       "      <td>0709</td>\n",
       "      <td>2021-08</td>\n",
       "      <td>10525</td>\n",
       "    </tr>\n",
       "    <tr>\n",
       "      <th>786</th>\n",
       "      <td>0709</td>\n",
       "      <td>2021-09</td>\n",
       "      <td>2000</td>\n",
       "    </tr>\n",
       "    <tr>\n",
       "      <th>787</th>\n",
       "      <td>0709</td>\n",
       "      <td>2021-10</td>\n",
       "      <td>12411</td>\n",
       "    </tr>\n",
       "    <tr>\n",
       "      <th>788</th>\n",
       "      <td>0709</td>\n",
       "      <td>2021-11</td>\n",
       "      <td>2103</td>\n",
       "    </tr>\n",
       "    <tr>\n",
       "      <th>789</th>\n",
       "      <td>0709</td>\n",
       "      <td>2021-12</td>\n",
       "      <td>953</td>\n",
       "    </tr>\n",
       "    <tr>\n",
       "      <th>790</th>\n",
       "      <td>0709</td>\n",
       "      <td>2022-01</td>\n",
       "      <td>12724</td>\n",
       "    </tr>\n",
       "    <tr>\n",
       "      <th>791</th>\n",
       "      <td>0709</td>\n",
       "      <td>2022-02</td>\n",
       "      <td>10245</td>\n",
       "    </tr>\n",
       "    <tr>\n",
       "      <th>792</th>\n",
       "      <td>0709</td>\n",
       "      <td>2022-03</td>\n",
       "      <td>48802.663044929504</td>\n",
       "    </tr>\n",
       "    <tr>\n",
       "      <th>793</th>\n",
       "      <td>0709</td>\n",
       "      <td>2022-04</td>\n",
       "      <td>41951.09920807928</td>\n",
       "    </tr>\n",
       "    <tr>\n",
       "      <th>794</th>\n",
       "      <td>0709</td>\n",
       "      <td>2022-05</td>\n",
       "      <td>100409.74199995771</td>\n",
       "    </tr>\n",
       "  </tbody>\n",
       "</table>\n",
       "</div>"
      ],
      "text/plain": [
       "      cat       ds                   y\n",
       "742  0709  2018-01                   0\n",
       "743  0709  2018-02                8986\n",
       "744  0709  2018-03                   0\n",
       "745  0709  2018-04                   0\n",
       "746  0709  2018-05               10812\n",
       "747  0709  2018-06               26510\n",
       "748  0709  2018-07                   0\n",
       "749  0709  2018-08                   8\n",
       "750  0709  2018-09               16483\n",
       "751  0709  2018-10                   0\n",
       "752  0709  2018-11                4952\n",
       "753  0709  2018-12                   0\n",
       "754  0709  2019-01                8990\n",
       "755  0709  2019-02                   0\n",
       "756  0709  2019-03               10511\n",
       "757  0709  2019-04                   0\n",
       "758  0709  2019-05                9910\n",
       "759  0709  2019-06                3148\n",
       "760  0709  2019-07                4854\n",
       "761  0709  2019-08               21874\n",
       "762  0709  2019-09                7049\n",
       "763  0709  2019-10                   0\n",
       "764  0709  2019-11                3852\n",
       "765  0709  2019-12               23178\n",
       "766  0709  2020-01                2642\n",
       "767  0709  2020-02               19354\n",
       "768  0709  2020-03               46491\n",
       "769  0709  2020-04               12566\n",
       "770  0709  2020-05               38078\n",
       "771  0709  2020-06                4017\n",
       "772  0709  2020-07                3096\n",
       "773  0709  2020-08                7967\n",
       "774  0709  2020-09               28178\n",
       "775  0709  2020-10                8470\n",
       "776  0709  2020-11                 840\n",
       "777  0709  2020-12                5476\n",
       "778  0709  2021-01               45888\n",
       "779  0709  2021-02               11428\n",
       "780  0709  2021-03               58822\n",
       "781  0709  2021-04               15736\n",
       "782  0709  2021-05                3075\n",
       "783  0709  2021-06               15991\n",
       "784  0709  2021-07                3398\n",
       "785  0709  2021-08               10525\n",
       "786  0709  2021-09                2000\n",
       "787  0709  2021-10               12411\n",
       "788  0709  2021-11                2103\n",
       "789  0709  2021-12                 953\n",
       "790  0709  2022-01               12724\n",
       "791  0709  2022-02               10245\n",
       "792  0709  2022-03  48802.663044929504\n",
       "793  0709  2022-04   41951.09920807928\n",
       "794  0709  2022-05  100409.74199995771"
      ]
     },
     "execution_count": 447,
     "metadata": {},
     "output_type": "execute_result"
    }
   ],
   "source": [
    "pdf[pdf['cat'] == '0709'].sort_values(by='ds')"
   ]
  },
  {
   "cell_type": "code",
   "execution_count": 455,
   "id": "049ddbd0-8066-4709-a7de-4dc8a0397e4c",
   "metadata": {
    "pycharm": {
     "name": "#%%\n"
    }
   },
   "outputs": [
    {
     "data": {
      "text/html": [
       "<div>\n",
       "<style scoped>\n",
       "    .dataframe tbody tr th:only-of-type {\n",
       "        vertical-align: middle;\n",
       "    }\n",
       "\n",
       "    .dataframe tbody tr th {\n",
       "        vertical-align: top;\n",
       "    }\n",
       "\n",
       "    .dataframe thead th {\n",
       "        text-align: right;\n",
       "    }\n",
       "</style>\n",
       "<table border=\"1\" class=\"dataframe\">\n",
       "  <thead>\n",
       "    <tr style=\"text-align: right;\">\n",
       "      <th></th>\n",
       "      <th>cat</th>\n",
       "      <th>ds</th>\n",
       "      <th>y</th>\n",
       "    </tr>\n",
       "  </thead>\n",
       "  <tbody>\n",
       "    <tr>\n",
       "      <th>4346</th>\n",
       "      <td>1302</td>\n",
       "      <td>2018-01</td>\n",
       "      <td>788840.0</td>\n",
       "    </tr>\n",
       "    <tr>\n",
       "      <th>4347</th>\n",
       "      <td>1302</td>\n",
       "      <td>2018-02</td>\n",
       "      <td>454921.0</td>\n",
       "    </tr>\n",
       "    <tr>\n",
       "      <th>4348</th>\n",
       "      <td>1302</td>\n",
       "      <td>2018-03</td>\n",
       "      <td>188535.0</td>\n",
       "    </tr>\n",
       "    <tr>\n",
       "      <th>4349</th>\n",
       "      <td>1302</td>\n",
       "      <td>2018-04</td>\n",
       "      <td>143240.0</td>\n",
       "    </tr>\n",
       "    <tr>\n",
       "      <th>4350</th>\n",
       "      <td>1302</td>\n",
       "      <td>2018-05</td>\n",
       "      <td>511665.0</td>\n",
       "    </tr>\n",
       "  </tbody>\n",
       "</table>\n",
       "</div>"
      ],
      "text/plain": [
       "       cat       ds         y\n",
       "4346  1302  2018-01  788840.0\n",
       "4347  1302  2018-02  454921.0\n",
       "4348  1302  2018-03  188535.0\n",
       "4349  1302  2018-04  143240.0\n",
       "4350  1302  2018-05  511665.0"
      ]
     },
     "execution_count": 455,
     "metadata": {},
     "output_type": "execute_result"
    }
   ],
   "source": [
    "filtered = pdf[(pdf['cat'] == '1302') & (pdf['ds'] > '2018')].copy()\n",
    "filtered['y'] = filtered['y'].astype(float)\n",
    "filtered.head()"
   ]
  },
  {
   "cell_type": "code",
   "execution_count": 456,
   "id": "f62857e7-01c9-4d0b-8911-514d650a2bdf",
   "metadata": {
    "pycharm": {
     "name": "#%%\n"
    }
   },
   "outputs": [
    {
     "data": {
      "image/png": "[encoded data removed]",
      "text/plain": [
       "<Figure size 720x576 with 1 Axes>"
      ]
     },
     "metadata": {
      "needs_background": "light"
     },
     "output_type": "display_data"
    }
   ],
   "source": [
    "ax = filtered.plot(x='ds', y='y')"
   ]
  },
  {
   "cell_type": "code",
   "execution_count": 457,
   "id": "750194a3-a309-4954-b31f-45db61831ee7",
   "metadata": {
    "pycharm": {
     "name": "#%%\n"
    }
   },
   "outputs": [
    {
     "name": "stdout",
     "output_type": "stream",
     "text": [
      "== Physical Plan ==\n",
      "InMemoryTableScan [cat#15378, ds#15379, y#15380]\n",
      "   +- InMemoryRelation [cat#15378, ds#15379, y#15380], StorageLevel(disk, memory, deserialized, 1 replicas)\n",
      "         +- Exchange hashpartitioning(ds#15379, 16), REPARTITION_BY_NUM, [id=#5164]\n",
      "            +- *(2) Project [cat#15378, ds#15379, y#15380]\n",
      "               +- *(2) Sort [cat#15378 ASC NULLS FIRST, month#15349 ASC NULLS FIRST], true, 0\n",
      "                  +- Exchange rangepartitioning(cat#15378 ASC NULLS FIRST, month#15349 ASC NULLS FIRST, 200), ENSURE_REQUIREMENTS, [id=#5159]\n",
      "                     +- *(1) Project [category#15350 AS cat#15378, month#15349 AS ds#15379, total_price#15351 AS y#15380, month#15349]\n",
      "                        +- *(1) Filter (isnotnull(month#15349) AND (month#15349 > 2018))\n",
      "                           +- FileScan csv [month#15349,category#15350,total_price#15351] Batched: false, DataFilters: [isnotnull(month#15349), (month#15349 > 2018)], Format: CSV, Location: InMemoryFileIndex(1 paths)[file:/home/jovyan/work/projects/bdm_public_agricultural_exports_agg_fu..., PartitionFilters: [], PushedFilters: [IsNotNull(month), GreaterThan(month,2018)], ReadSchema: struct<month:string,category:string,total_price:string>\n",
      "\n",
      "\n"
     ]
    }
   ],
   "source": [
    "cat_part = (cat_df.repartition(spark.sparkContext.defaultParallelism, ['ds'])).cache()\n",
    "cat_part.explain()"
   ]
  },
  {
   "cell_type": "code",
   "execution_count": 458,
   "id": "128725f1-4f67-4fce-945f-92338de07e76",
   "metadata": {
    "pycharm": {
     "name": "#%%\n"
    }
   },
   "outputs": [],
   "source": [
    "from pyspark.sql.types import *\n",
    "result_schema = StructType([\n",
    "                  StructField('ds', TimestampType()),\n",
    "                  StructField('cat', StringType()),\n",
    "                  StructField('y', DoubleType()),\n",
    "                  StructField('yhat', DoubleType()),\n",
    "                  StructField('yhat_upper', DoubleType()),\n",
    "                  StructField('yhat_lower', DoubleType())\n",
    "])"
   ]
  },
  {
   "cell_type": "code",
   "execution_count": 459,
   "id": "9e7940d2-ef0b-4602-b60b-99bfb1d25f14",
   "metadata": {
    "pycharm": {
     "name": "#%%\n"
    }
   },
   "outputs": [],
   "source": [
    "from pyspark.sql.functions import pandas_udf, PandasUDFType\n",
    "from fbprophet.serialize import model_to_json, model_from_json\n",
    "import json"
   ]
  },
  {
   "cell_type": "code",
   "execution_count": 460,
   "id": "3f7d2245-c12f-4afa-9fbb-9c97e371f9a6",
   "metadata": {
    "pycharm": {
     "name": "#%%\n"
    }
   },
   "outputs": [],
   "source": [
    "@pandas_udf(result_schema, PandasUDFType.GROUPED_MAP)\n",
    "def insample_forecast(cat_pd):\n",
    "    category = cat_pd['cat'].iloc[0]\n",
    "    model = Prophet()\n",
    "    train = cat_pd.iloc[:cat_pd.shape[0] - 12]\n",
    "    model.fit(train)\n",
    "    forecast_pd = model.predict(cat_pd)\n",
    "    f_pd = forecast_pd[['ds', 'yhat', 'yhat_upper', 'yhat_lower']].set_index('ds')\n",
    "    ct_pd = cat_pd[['ds', 'cat', 'y']].set_index('ds')\n",
    "    result_pd = f_pd.join(ct_pd, how='left')\n",
    "    result_pd.reset_index(level=0, inplace=True)\n",
    "    result_pd['cat'] = category\n",
    "    return result_pd[['ds', 'cat', 'y', 'yhat', 'yhat_upper', 'yhat_lower']]"
   ]
  },
  {
   "cell_type": "code",
   "execution_count": 461,
   "id": "52a67fd9-66d0-41b5-8dfd-06f098fe537e",
   "metadata": {
    "pycharm": {
     "name": "#%%\n"
    }
   },
   "outputs": [],
   "source": [
    "from sklearn.metrics import mean_squared_error\n",
    "\n",
    "performance_schema = StructType([\n",
    "                  StructField('cat', StringType()),\n",
    "                  StructField('MSE', DoubleType()),\n",
    "                  StructField('RMSE', DoubleType())\n",
    "])\n",
    "\n",
    "@pandas_udf(performance_schema, PandasUDFType.GROUPED_MAP)\n",
    "def performance(cat_pd):\n",
    "    category = cat_pd['cat'].iloc[0]\n",
    "    model = Prophet()\n",
    "    train = cat_pd.iloc[:cat_pd.shape[0] - 12]\n",
    "    model.fit(train)\n",
    "    forecast_pd = model.predict(cat_pd)\n",
    "    mse = mean_squared_error(cat_pd['y'].values, forecast_pd['yhat'].values)\n",
    "    rmse = mean_squared_error(cat_pd['y'].values, forecast_pd['yhat'].values, squared=False)\n",
    "    return pd.DataFrame(data={'cat': [category], 'MSE': mse, 'RMSE': rmse})"
   ]
  },
  {
   "cell_type": "code",
   "execution_count": 462,
   "id": "634da638-a5d3-41c7-b8ee-3717d45ca342",
   "metadata": {
    "tags": [],
    "pycharm": {
     "name": "#%%\n"
    }
   },
   "outputs": [],
   "source": [
    "@pandas_udf(result_schema, PandasUDFType.GROUPED_MAP)\n",
    "def forecast_sales(cat_pd):\n",
    "    category = cat_pd['cat'].iloc[0]\n",
    "    model = Prophet()\n",
    "    model.fit(cat_pd)\n",
    "    with open(f'/tmp/models/serialized_model-{category}.json', 'w') as fout:\n",
    "        json.dump(model_to_json(model), fout)  # Save model\n",
    "    future_pd = model.make_future_dataframe(periods=12, freq='MS')\n",
    "    forecast_pd = model.predict(future_pd)\n",
    "    f_pd = forecast_pd[['ds', 'yhat', 'yhat_upper', 'yhat_lower']].set_index('ds')\n",
    "    ct_pd = cat_pd[['ds', 'cat', 'y']].set_index('ds')\n",
    "    result_pd = f_pd.join(ct_pd, how='left')\n",
    "    result_pd.reset_index(level=0, inplace=True)\n",
    "    result_pd['cat'] = category\n",
    "    return result_pd[['ds', 'cat', 'y', 'yhat', 'yhat_upper', 'yhat_lower']]"
   ]
  },
  {
   "cell_type": "code",
   "execution_count": 463,
   "id": "50a75461-1565-4f64-b4fe-f8df6855c8cc",
   "metadata": {
    "pycharm": {
     "name": "#%%\n"
    }
   },
   "outputs": [
    {
     "name": "stderr",
     "output_type": "stream",
     "text": [
      "/usr/local/spark/python/pyspark/sql/pandas/group_ops.py:81: UserWarning: It is preferred to use 'applyInPandas' over this API. This API will be deprecated in the future releases. See SPARK-28264 for more details.\n",
      "  warnings.warn(\n"
     ]
    },
    {
     "data": {
      "text/plain": [
       "DataFrame[ds: timestamp, cat: string, y: double, yhat: double, yhat_upper: double, yhat_lower: double, training_date: date]"
      ]
     },
     "execution_count": 463,
     "metadata": {},
     "output_type": "execute_result"
    }
   ],
   "source": [
    "from pyspark.sql.functions import current_date\n",
    "performance = (cat_part.groupby('cat').apply(performance).withColumn('training_date', current_date()))\n",
    "testing = (cat_part.groupby('cat').apply(insample_forecast).withColumn('training_date', current_date()))\n",
    "results = (cat_part.groupby('cat').apply(forecast_sales).withColumn('training_date', current_date()))\n",
    "results.cache()"
   ]
  },
  {
   "cell_type": "code",
   "execution_count": 464,
   "id": "78f2f40e-9b62-40a8-b492-8279c574aee3",
   "metadata": {
    "pycharm": {
     "name": "#%%\n"
    }
   },
   "outputs": [],
   "source": [
    "performance.coalesce(1)\n",
    "performance.createOrReplaceTempView('testPerformance')\n",
    "\n",
    "testing.coalesce(1)\n",
    "testing.createOrReplaceTempView('test')\n",
    "\n",
    "results.coalesce(1)\n",
    "results.createOrReplaceTempView('forecasted')"
   ]
  },
  {
   "cell_type": "code",
   "execution_count": 476,
   "id": "0807ce8f-5952-4967-8ef5-56ce0d6a7676",
   "metadata": {
    "pycharm": {
     "name": "#%%\n"
    }
   },
   "outputs": [
    {
     "name": "stdout",
     "output_type": "stream",
     "text": [
      "+----+--------------------+------------------+-------------+\n",
      "| cat|                 MSE|              RMSE|training_date|\n",
      "+----+--------------------+------------------+-------------+\n",
      "|1213|  3960356.0837326674|1990.0643416062373|   2022-06-12|\n",
      "|0706|2.0395756438215207E7| 4516.166121636272|   2022-06-12|\n",
      "|0708|4.0493632449587755E7| 6363.460729004914|   2022-06-12|\n",
      "|1200| 5.254719455603309E7| 7248.944375288935|   2022-06-12|\n",
      "+----+--------------------+------------------+-------------+\n",
      "only showing top 4 rows\n",
      "\n"
     ]
    }
   ],
   "source": [
    "spark.sql(\"SELECT * FROM testPerformance ORDER BY MSE ASC\").show(4)"
   ]
  },
  {
   "cell_type": "code",
   "execution_count": 488,
   "id": "f420f629-ad4e-4663-a91f-ee22cd3fd6e8",
   "metadata": {
    "pycharm": {
     "name": "#%%\n"
    }
   },
   "outputs": [],
   "source": [
    "category = '0706'"
   ]
  },
  {
   "cell_type": "code",
   "execution_count": 489,
   "id": "ce6aca69-8934-4684-ac23-d0649440f910",
   "metadata": {
    "pycharm": {
     "name": "#%%\n"
    }
   },
   "outputs": [
    {
     "name": "stdout",
     "output_type": "stream",
     "text": [
      "+-------------------+----+----+-------------------+------------------+-------------------+-------------+\n",
      "|                 ds| cat|   y|               yhat|        yhat_upper|         yhat_lower|training_date|\n",
      "+-------------------+----+----+-------------------+------------------+-------------------+-------------+\n",
      "|2018-01-01 00:00:00|0706|null| -517.4876339886384|2543.9307897655526|-3613.2019143021257|   2022-06-12|\n",
      "|2018-02-01 00:00:00|0706|null|-1906.0018470766445|1267.6574814052715| -4984.727477233596|   2022-06-12|\n",
      "|2018-03-01 00:00:00|0706|null|  550.7626564281572| 3704.794238293465|-2528.9615991429782|   2022-06-12|\n",
      "|2018-04-01 00:00:00|0706|null| 1197.7410313794721| 4318.324401905958| -1929.544602834549|   2022-06-12|\n",
      "+-------------------+----+----+-------------------+------------------+-------------------+-------------+\n",
      "only showing top 4 rows\n",
      "\n"
     ]
    }
   ],
   "source": [
    "spark.sql(f\"SELECT * FROM test WHERE cat = '{category}'\").show(4)"
   ]
  },
  {
   "cell_type": "code",
   "execution_count": 490,
   "id": "39475baf-063e-48f1-9a3b-c7b52aa8276f",
   "metadata": {
    "pycharm": {
     "name": "#%%\n"
    }
   },
   "outputs": [
    {
     "name": "stdout",
     "output_type": "stream",
     "text": [
      "+-------------------+----+----+-------------------+------------------+-------------------+-------------+\n",
      "|                 ds| cat|   y|               yhat|        yhat_upper|         yhat_lower|training_date|\n",
      "+-------------------+----+----+-------------------+------------------+-------------------+-------------+\n",
      "|2018-01-01 00:00:00|0706|null|  574.7127279852509|3849.3097766127353|-2783.1384046037383|   2022-06-12|\n",
      "|2018-02-01 00:00:00|0706|null|-1912.1353694167274|1263.4693201720793| -5190.870314546963|   2022-06-12|\n",
      "|2018-03-01 00:00:00|0706|null| 1349.6847561890513| 4640.552018405705|-1654.4889348695056|   2022-06-12|\n",
      "|2018-04-01 00:00:00|0706|null| 1407.1567290418807| 4326.009041864959|-1869.5229531674104|   2022-06-12|\n",
      "+-------------------+----+----+-------------------+------------------+-------------------+-------------+\n",
      "only showing top 4 rows\n",
      "\n"
     ]
    }
   ],
   "source": [
    "spark.sql(f\"SELECT * FROM forecasted WHERE cat = '{category}'\").show(4)"
   ]
  },
  {
   "cell_type": "code",
   "execution_count": 491,
   "id": "d4d90cd8-4ba7-4e22-bc92-6595b9908bc7",
   "metadata": {
    "pycharm": {
     "name": "#%%\n"
    }
   },
   "outputs": [],
   "source": [
    "final_df = results.toPandas()\n",
    "fdf_cat = final_df[final_df['cat'] == category].copy().set_index('ds')"
   ]
  },
  {
   "cell_type": "code",
   "execution_count": 492,
   "id": "5890953b-6d95-4d34-8d28-a7d75dda0b4e",
   "metadata": {
    "pycharm": {
     "name": "#%%\n"
    }
   },
   "outputs": [],
   "source": [
    "pdf_cat = pdf[pdf['cat'] == category].copy()\n",
    "pdf_cat['ds'] = pd.to_datetime(pdf_cat['ds'])\n",
    "pdf_cat = pdf_cat.set_index('ds')"
   ]
  },
  {
   "cell_type": "code",
   "execution_count": 493,
   "id": "1e980d8b-930d-4871-88bf-db8be6d42f92",
   "metadata": {
    "pycharm": {
     "name": "#%%\n"
    }
   },
   "outputs": [],
   "source": [
    "fdf_cat = fdf_cat.combine_first(pdf_cat).fillna(0.0)\n",
    "fdf_cat['y'] = fdf_cat['y'].astype(float)"
   ]
  },
  {
   "cell_type": "code",
   "execution_count": 500,
   "id": "062bc348-f071-48cd-acd8-1dee60a86103",
   "metadata": {
    "pycharm": {
     "name": "#%%\n"
    }
   },
   "outputs": [
    {
     "data": {
      "image/png": "[encoded data removed]",
      "text/plain": [
       "<Figure size 720x576 with 1 Axes>"
      ]
     },
     "metadata": {
      "needs_background": "light"
     },
     "output_type": "display_data"
    }
   ],
   "source": [
    "fig, ax = plt.subplots()\n",
    "fdf_cat[['y', 'yhat']].plot(ax=ax)\n",
    "plt.title(f'Category {category} predictions')\n",
    "plt.ylabel('Total Price')\n",
    "plt.xlabel('Month')\n",
    "ax.legend([\"Real value\", \"Forecast\"]);\n",
    "plt.show()"
   ]
  },
  {
   "cell_type": "code",
   "execution_count": null,
   "id": "5c51f3db-22ca-433e-a7f2-cc97afc1d205",
   "metadata": {
    "pycharm": {
     "name": "#%%\n"
    }
   },
   "outputs": [],
   "source": []
  }
 ],
 "metadata": {
  "kernelspec": {
   "display_name": "Python 3 (ipykernel)",
   "language": "python",
   "name": "python3"
  },
  "language_info": {
   "codemirror_mode": {
    "name": "ipython",
    "version": 3
   },
   "file_extension": ".py",
   "mimetype": "text/x-python",
   "name": "python",
   "nbconvert_exporter": "python",
   "pygments_lexer": "ipython3",
   "version": "3.8.13"
  }
 },
 "nbformat": 4,
 "nbformat_minor": 5
}